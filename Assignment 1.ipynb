{
 "cells": [
  {
   "cell_type": "markdown",
   "metadata": {},
   "source": [
    "Q.2 Input user name and print"
   ]
  },
  {
   "cell_type": "code",
   "execution_count": 103,
   "metadata": {},
   "outputs": [
    {
     "name": "stdout",
     "output_type": "stream",
     "text": [
      "What is your first name? Navpreet\n"
     ]
    }
   ],
   "source": [
    "first_name=input('What is your first name? ')"
   ]
  },
  {
   "cell_type": "code",
   "execution_count": 104,
   "metadata": {},
   "outputs": [
    {
     "name": "stdout",
     "output_type": "stream",
     "text": [
      "What is your last name? Singh\n"
     ]
    }
   ],
   "source": [
    "last_name=input('What is your last name? ')"
   ]
  },
  {
   "cell_type": "code",
   "execution_count": 105,
   "metadata": {},
   "outputs": [
    {
     "name": "stdout",
     "output_type": "stream",
     "text": [
      "My name is Singh Navpreet\n"
     ]
    }
   ],
   "source": [
    "print(\"My name is {a} \" \"{b}\".format(a=last_name,b=first_name))"
   ]
  },
  {
   "cell_type": "markdown",
   "metadata": {},
   "source": [
    "Q.3. Volume of sphere"
   ]
  },
  {
   "cell_type": "code",
   "execution_count": 106,
   "metadata": {},
   "outputs": [
    {
     "name": "stdout",
     "output_type": "stream",
     "text": [
      " Enter the diametere of sphere in cm 12\n"
     ]
    }
   ],
   "source": [
    "D= int(input(\" Enter the diametere of sphere in cm \"))"
   ]
  },
  {
   "cell_type": "code",
   "execution_count": 107,
   "metadata": {},
   "outputs": [],
   "source": [
    "R=D/2\n",
    "import math"
   ]
  },
  {
   "cell_type": "code",
   "execution_count": 108,
   "metadata": {},
   "outputs": [],
   "source": [
    "V=(4/3)*(math.pi)*R**3"
   ]
  },
  {
   "cell_type": "code",
   "execution_count": 109,
   "metadata": {},
   "outputs": [
    {
     "name": "stdout",
     "output_type": "stream",
     "text": [
      "The volume of the sphere is 904.7786842338603\n"
     ]
    }
   ],
   "source": [
    "print('The volume of the sphere is {}'.format(V))"
   ]
  },
  {
   "cell_type": "markdown",
   "metadata": {},
   "source": [
    "Q.1 Divisibility by 7 but not by 5 for numbers between 2000 and 3000"
   ]
  },
  {
   "cell_type": "code",
   "execution_count": 110,
   "metadata": {},
   "outputs": [],
   "source": [
    "import numpy as np\n",
    "arr=np.arange(2000,3001,1)   #list[] doesn't work. Put an asterick * infront to make a list\n"
   ]
  },
  {
   "cell_type": "code",
   "execution_count": 111,
   "metadata": {},
   "outputs": [],
   "source": [
    "boolean_lst= [i%7==0 and i%5!=0 for i in a]\n"
   ]
  },
  {
   "cell_type": "code",
   "execution_count": 112,
   "metadata": {},
   "outputs": [
    {
     "data": {
      "text/plain": [
       "array([2002, 2009, 2016, 2023, 2037, 2044, 2051, 2058, 2072, 2079, 2086,\n",
       "       2093, 2107, 2114, 2121, 2128, 2142, 2149, 2156, 2163, 2177, 2184,\n",
       "       2191, 2198, 2212, 2219, 2226, 2233, 2247, 2254, 2261, 2268, 2282,\n",
       "       2289, 2296, 2303, 2317, 2324, 2331, 2338, 2352, 2359, 2366, 2373,\n",
       "       2387, 2394, 2401, 2408, 2422, 2429, 2436, 2443, 2457, 2464, 2471,\n",
       "       2478, 2492, 2499, 2506, 2513, 2527, 2534, 2541, 2548, 2562, 2569,\n",
       "       2576, 2583, 2597, 2604, 2611, 2618, 2632, 2639, 2646, 2653, 2667,\n",
       "       2674, 2681, 2688, 2702, 2709, 2716, 2723, 2737, 2744, 2751, 2758,\n",
       "       2772, 2779, 2786, 2793, 2807, 2814, 2821, 2828, 2842, 2849, 2856,\n",
       "       2863, 2877, 2884, 2891, 2898, 2912, 2919, 2926, 2933, 2947, 2954,\n",
       "       2961, 2968, 2982, 2989, 2996])"
      ]
     },
     "execution_count": 112,
     "metadata": {},
     "output_type": "execute_result"
    }
   ],
   "source": [
    "final_list= arr[boolean_lst]\n",
    "final_list\n"
   ]
  },
  {
   "cell_type": "code",
   "execution_count": null,
   "metadata": {},
   "outputs": [],
   "source": []
  },
  {
   "cell_type": "code",
   "execution_count": null,
   "metadata": {},
   "outputs": [],
   "source": []
  }
 ],
 "metadata": {
  "kernelspec": {
   "display_name": "Python 3",
   "language": "python",
   "name": "python3"
  },
  "language_info": {
   "codemirror_mode": {
    "name": "ipython",
    "version": 3
   },
   "file_extension": ".py",
   "mimetype": "text/x-python",
   "name": "python",
   "nbconvert_exporter": "python",
   "pygments_lexer": "ipython3",
   "version": "3.6.12"
  }
 },
 "nbformat": 4,
 "nbformat_minor": 4
}
